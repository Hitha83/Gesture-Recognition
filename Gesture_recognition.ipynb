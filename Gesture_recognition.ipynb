{
 "cells": [
  {
   "cell_type": "markdown",
   "metadata": {},
   "source": [
    "# Gesture Recognition\n",
    "In this group project, you are going to build a 3D Conv model that will be able to predict the 5 gestures correctly. Please import the following libraries to get started."
   ]
  },
  {
   "cell_type": "code",
   "execution_count": 29,
   "metadata": {},
   "outputs": [],
   "source": [
    "import numpy as np\n",
    "import os\n",
    "from scipy.misc import imread, imresize\n",
    "import datetime\n",
    "import cv2\n"
   ]
  },
  {
   "cell_type": "markdown",
   "metadata": {},
   "source": [
    "We set the random seed so that the results don't vary drastically."
   ]
  },
  {
   "cell_type": "code",
   "execution_count": 30,
   "metadata": {},
   "outputs": [],
   "source": [
    "np.random.seed(30)\n",
    "import random as rn\n",
    "rn.seed(30)\n",
    "from keras import backend as K\n",
    "import tensorflow as tf\n",
    "tf.set_random_seed(30)"
   ]
  },
  {
   "cell_type": "markdown",
   "metadata": {},
   "source": [
    "In this block, you read the folder names for training and validation. You also set the `batch_size` here. Note that you set the batch size in such a way that you are able to use the GPU in full capacity. You keep increasing the batch size until the machine throws an error."
   ]
  },
  {
   "cell_type": "code",
   "execution_count": 31,
   "metadata": {},
   "outputs": [],
   "source": [
    "train_doc = np.random.permutation(open('./notebooks/storage/Final_data/Collated_training/train.csv').readlines())\n",
    "val_doc = np.random.permutation(open('./notebooks/storage/Final_data/Collated_training/val.csv').readlines())\n",
    "batch_size = 64 #experiment with the batch size"
   ]
  },
  {
   "cell_type": "markdown",
   "metadata": {},
   "source": [
    "## Generator\n",
    "This is one of the most important part of the code. The overall structure of the generator has been given. In the generator, you are going to preprocess the images as you have images of 2 different dimensions as well as create a batch of video frames. You have to experiment with `img_idx`, `y`,`z` and normalization such that you get high accuracy."
   ]
  },
  {
   "cell_type": "code",
   "execution_count": 32,
   "metadata": {},
   "outputs": [],
   "source": [
    "width = 100\n",
    "height = 100"
   ]
  },
  {
   "cell_type": "code",
   "execution_count": 33,
   "metadata": {},
   "outputs": [],
   "source": [
    "def load_images(batch,batch_size,img_idx,source_path,t):\n",
    "    batch_data = np.zeros((batch_size,len(img_idx),width,height,3)) # x is the number of images you use for each video, (y,z) is the final size of the input images and 3 is the number of channels RGB\n",
    "    batch_labels = np.zeros((batch_size,5)) # batch_labels is the one hot representation of the output\n",
    "    for folder in range(batch_size): # iterate over the batch_size\n",
    "        imgs = os.listdir(source_path+'/'+ t[folder + (batch*batch_size)].split(';')[0]) # read all the images in the folder\n",
    "        for idx,item in enumerate(img_idx): #  Iterate iver the frames/images of a folder to read them in\n",
    "            image = imread(source_path+'/'+ t[folder + (batch*batch_size)].strip().split(';')[0]+'/'+imgs[item]).astype(np.float32)\n",
    "                    \n",
    "            #crop the images and resize them. Note that the images are of 2 different shape \n",
    "            #and the conv3D will throw error if the inputs in a batch have different shapes \n",
    "            image = cv2.cvtColor(image, cv2.COLOR_BGR2RGB)\n",
    "            if image.shape[0] != image.shape[1]:\n",
    "                image=image[0:120,20:140]\n",
    "            resized_image = imresize(image,(width,height))\n",
    "            #norm_image = resized_image - np.percentile(resized_image,5)/ np.percentile(resized_image,95) - np.percentile(resized_image,5)\n",
    "            norm_image= resized_image/255\n",
    "            batch_data[folder,idx,:,:,0] = norm_image[:,:,0]\n",
    "            batch_data[folder,idx,:,:,1] = norm_image[:,:,1]\n",
    "            batch_data[folder,idx,:,:,2] = norm_image[:,:,2]\n",
    "        batch_labels[folder, int(t[folder + (batch*batch_size)].strip().split(';')[2])] = 1\n",
    "    return batch_data,batch_labels"
   ]
  },
  {
   "cell_type": "code",
   "execution_count": 34,
   "metadata": {},
   "outputs": [],
   "source": [
    "def generator(source_path, folder_list, batch_size):\n",
    "    print( 'Source path = ', source_path, '; batch size =', batch_size)\n",
    "    img_idx = np.arange(6,30,2) #create a list of image numbers you want to use for a particular video\n",
    "    while True:\n",
    "        t = np.random.permutation(folder_list)\n",
    "        num_batches = len(folder_list)//batch_size # calculate the number of batches\n",
    "        for batch in range(num_batches): # we iterate over the number of batches\n",
    "            yield load_images(batch,batch_size,img_idx,source_path,t) #you yield the batch_data and the batch_labels, remember what does yield do\n",
    "        if (len(folder_list) != batch_size*num_batches):\n",
    "            batch=+1\n",
    "            reduced_batch_size = len(folder_list) - (batch_size*num_batches)\n",
    "            yield load_images(batch,reduced_batch_size,img_idx,source_path,t)\n"
   ]
  },
  {
   "cell_type": "markdown",
   "metadata": {},
   "source": [
    "Note here that a video is represented above in the generator as (number of images, height, width, number of channels). Take this into consideration while creating the model architecture."
   ]
  },
  {
   "cell_type": "code",
   "execution_count": 35,
   "metadata": {},
   "outputs": [
    {
     "name": "stdout",
     "output_type": "stream",
     "text": [
      "# training sequences = 663\n",
      "# validation sequences = 100\n",
      "# epochs = 20\n"
     ]
    }
   ],
   "source": [
    "curr_dt_time = datetime.datetime.now()\n",
    "train_path = './notebooks/storage/Final_data/Collated_training/train'\n",
    "val_path = './notebooks/storage/Final_data/Collated_training/val'\n",
    "num_train_sequences = len(train_doc)\n",
    "print('# training sequences =', num_train_sequences)\n",
    "num_val_sequences = len(val_doc)\n",
    "print('# validation sequences =', num_val_sequences)\n",
    "num_epochs = 20 # choose the number of epochs\n",
    "print ('# epochs =', num_epochs)"
   ]
  },
  {
   "cell_type": "markdown",
   "metadata": {},
   "source": [
    "## Model\n",
    "Here you make the model using different functionalities that Keras provides. Remember to use `Conv3D` and `MaxPooling3D` and not `Conv2D` and `Maxpooling2D` for a 3D convolution model. You would want to use `TimeDistributed` while building a Conv2D + RNN model. Also remember that the last layer is the softmax. Design the network in such a way that the model is able to give good accuracy on the least number of parameters so that it can fit in the memory of the webcam."
   ]
  },
  {
   "cell_type": "code",
   "execution_count": 22,
   "metadata": {},
   "outputs": [],
   "source": [
    "from keras.models import Sequential, Model\n",
    "from keras.layers import Dense, GRU, Flatten, TimeDistributed, Flatten, BatchNormalization, Activation, Dropout\n",
    "from keras.layers.convolutional import Conv2D, MaxPooling2D, AveragePooling2D\n",
    "from keras.callbacks import ModelCheckpoint, ReduceLROnPlateau\n",
    "from keras import optimizers\n",
    "from keras.regularizers import l2\n",
    "from keras.layers import LSTM, GRU, Bidirectional, SimpleRNN, RNN\n",
    "\n",
    "model = Sequential()\n",
    "\n",
    "model.add(TimeDistributed(Conv2D(16, (2, 2), padding='same'),\n",
    "                 input_shape=(12,width,height,3)))\n",
    "model.add(Activation('relu'))\n",
    "model.add(BatchNormalization())\n",
    "model.add(TimeDistributed(Conv2D(16, (2, 2))))\n",
    "model.add(Activation('relu'))\n",
    "model.add(BatchNormalization())\n",
    "model.add(TimeDistributed(MaxPooling2D(pool_size=(2, 2))))\n",
    "\n",
    "\n",
    "model.add(TimeDistributed(Conv2D(32, (2, 2), padding='same')))\n",
    "model.add(Activation('relu'))\n",
    "model.add(BatchNormalization())\n",
    "model.add(TimeDistributed(Conv2D(32, (2, 2), padding='same')))\n",
    "model.add(Activation('relu'))\n",
    "model.add(BatchNormalization())\n",
    "model.add(TimeDistributed(MaxPooling2D(pool_size=(2, 2))))\n",
    "model.add(Dropout(0.2))\n",
    "\n",
    "model.add(TimeDistributed(Conv2D(64, (2, 2), padding='same')))\n",
    "model.add(Activation('relu'))\n",
    "model.add(BatchNormalization())\n",
    "model.add(TimeDistributed(Conv2D(64, (2, 2), padding='same')))\n",
    "model.add(Activation('relu'))\n",
    "model.add(BatchNormalization())\n",
    "model.add(TimeDistributed(MaxPooling2D(pool_size=(2, 2))))\n",
    "model.add(Dropout(0.2))\n",
    "\n",
    "\n",
    "model.add(TimeDistributed(Flatten()))\n",
    "model.add(GRU(256, return_sequences=False, dropout=0.5))\n",
    "model.add(Dense(64,kernel_regularizer=l2(0.01)))\n",
    "model.add(Activation('relu'))\n",
    "model.add(Dropout(0.25))\n",
    "model.add(Dense(5))\n",
    "model.add(Activation('softmax'))"
   ]
  },
  {
   "cell_type": "markdown",
   "metadata": {},
   "source": [
    "Now that you have written the model, the next step is to `compile` the model. When you print the `summary` of the model, you'll see the total number of parameters you have to train."
   ]
  },
  {
   "cell_type": "code",
   "execution_count": 37,
   "metadata": {
    "scrolled": true
   },
   "outputs": [
    {
     "name": "stdout",
     "output_type": "stream",
     "text": [
      "_________________________________________________________________\n",
      "Layer (type)                 Output Shape              Param #   \n",
      "=================================================================\n",
      "time_distributed_11 (TimeDis (None, 12, 100, 100, 16)  208       \n",
      "_________________________________________________________________\n",
      "activation_9 (Activation)    (None, 12, 100, 100, 16)  0         \n",
      "_________________________________________________________________\n",
      "batch_normalization_7 (Batch (None, 12, 100, 100, 16)  64        \n",
      "_________________________________________________________________\n",
      "time_distributed_12 (TimeDis (None, 12, 99, 99, 16)    1040      \n",
      "_________________________________________________________________\n",
      "activation_10 (Activation)   (None, 12, 99, 99, 16)    0         \n",
      "_________________________________________________________________\n",
      "batch_normalization_8 (Batch (None, 12, 99, 99, 16)    64        \n",
      "_________________________________________________________________\n",
      "time_distributed_13 (TimeDis (None, 12, 49, 49, 16)    0         \n",
      "_________________________________________________________________\n",
      "time_distributed_14 (TimeDis (None, 12, 49, 49, 32)    2080      \n",
      "_________________________________________________________________\n",
      "activation_11 (Activation)   (None, 12, 49, 49, 32)    0         \n",
      "_________________________________________________________________\n",
      "batch_normalization_9 (Batch (None, 12, 49, 49, 32)    128       \n",
      "_________________________________________________________________\n",
      "time_distributed_15 (TimeDis (None, 12, 49, 49, 32)    4128      \n",
      "_________________________________________________________________\n",
      "activation_12 (Activation)   (None, 12, 49, 49, 32)    0         \n",
      "_________________________________________________________________\n",
      "batch_normalization_10 (Batc (None, 12, 49, 49, 32)    128       \n",
      "_________________________________________________________________\n",
      "time_distributed_16 (TimeDis (None, 12, 24, 24, 32)    0         \n",
      "_________________________________________________________________\n",
      "dropout_4 (Dropout)          (None, 12, 24, 24, 32)    0         \n",
      "_________________________________________________________________\n",
      "time_distributed_17 (TimeDis (None, 12, 24, 24, 64)    8256      \n",
      "_________________________________________________________________\n",
      "activation_13 (Activation)   (None, 12, 24, 24, 64)    0         \n",
      "_________________________________________________________________\n",
      "batch_normalization_11 (Batc (None, 12, 24, 24, 64)    256       \n",
      "_________________________________________________________________\n",
      "time_distributed_18 (TimeDis (None, 12, 24, 24, 64)    16448     \n",
      "_________________________________________________________________\n",
      "activation_14 (Activation)   (None, 12, 24, 24, 64)    0         \n",
      "_________________________________________________________________\n",
      "batch_normalization_12 (Batc (None, 12, 24, 24, 64)    256       \n",
      "_________________________________________________________________\n",
      "time_distributed_19 (TimeDis (None, 12, 12, 12, 64)    0         \n",
      "_________________________________________________________________\n",
      "dropout_5 (Dropout)          (None, 12, 12, 12, 64)    0         \n",
      "_________________________________________________________________\n",
      "time_distributed_20 (TimeDis (None, 12, 9216)          0         \n",
      "_________________________________________________________________\n",
      "gru_2 (GRU)                  (None, 256)               7275264   \n",
      "_________________________________________________________________\n",
      "dense_3 (Dense)              (None, 64)                16448     \n",
      "_________________________________________________________________\n",
      "activation_15 (Activation)   (None, 64)                0         \n",
      "_________________________________________________________________\n",
      "dropout_6 (Dropout)          (None, 64)                0         \n",
      "_________________________________________________________________\n",
      "dense_4 (Dense)              (None, 5)                 325       \n",
      "_________________________________________________________________\n",
      "activation_16 (Activation)   (None, 5)                 0         \n",
      "=================================================================\n",
      "Total params: 7,325,093\n",
      "Trainable params: 7,324,645\n",
      "Non-trainable params: 448\n",
      "_________________________________________________________________\n"
     ]
    }
   ],
   "source": [
    "# compile it\n",
    "model.compile(loss='categorical_crossentropy', optimizer='sgd', metrics=['categorical_accuracy'])\n",
    "\n",
    "# summary of model\n",
    "model.summary()\n",
    "\n"
   ]
  },
  {
   "cell_type": "markdown",
   "metadata": {},
   "source": [
    "Let us create the `train_generator` and the `val_generator` which will be used in `.fit_generator`."
   ]
  },
  {
   "cell_type": "code",
   "execution_count": 38,
   "metadata": {},
   "outputs": [],
   "source": [
    "train_generator = generator(train_path, train_doc, batch_size)\n",
    "val_generator = generator(val_path, val_doc, batch_size)"
   ]
  },
  {
   "cell_type": "code",
   "execution_count": 39,
   "metadata": {},
   "outputs": [],
   "source": [
    "# model_name = 'model_init' + '_' + str(curr_dt_time).replace(' ','').replace(':','_') + '/'\n",
    "model_name = 'model' + '_' + str(curr_dt_time).replace(' ','').replace(':','_') + '/'\n",
    "    \n",
    "if not os.path.exists(model_name):\n",
    "    os.mkdir(model_name)\n",
    "        \n",
    "filepath = model_name + 'model-{epoch:05d}-{loss:.5f}-{categorical_accuracy:.5f}-{val_loss:.5f}-{val_categorical_accuracy:.5f}.h5'\n",
    "\n",
    "checkpoint = ModelCheckpoint(filepath, monitor='val_loss', verbose=1, save_best_only=False, save_weights_only=False, mode='auto', period=1)\n",
    "\n",
    "#LR = # write the REducelronplateau code here\n",
    "LR = ReduceLROnPlateau(monitor='val_loss', factor=0.2, patience=5, min_lr=0.01)\n",
    "callbacks_list = [checkpoint]"
   ]
  },
  {
   "cell_type": "markdown",
   "metadata": {},
   "source": [
    "The `steps_per_epoch` and `validation_steps` are used by `fit_generator` to decide the number of next() calls it need to make."
   ]
  },
  {
   "cell_type": "code",
   "execution_count": 40,
   "metadata": {},
   "outputs": [],
   "source": [
    "\n",
    "if (num_train_sequences%batch_size) == 0:\n",
    "    steps_per_epoch = int(num_train_sequences/batch_size)\n",
    "else:\n",
    "    steps_per_epoch = (num_train_sequences//batch_size) + 1\n",
    "\n",
    "if (num_val_sequences%batch_size) == 0:\n",
    "    validation_steps = int(num_val_sequences/batch_size)\n",
    "else:\n",
    "    validation_steps = (num_val_sequences//batch_size) + 1"
   ]
  },
  {
   "cell_type": "markdown",
   "metadata": {},
   "source": [
    "Let us now fit the model. This will start training the model and with the help of the checkpoints, you'll be able to save the model at the end of each epoch."
   ]
  },
  {
   "cell_type": "code",
   "execution_count": 41,
   "metadata": {
    "scrolled": false
   },
   "outputs": [
    {
     "name": "stdout",
     "output_type": "stream",
     "text": [
      "Source path =  ./notebooks/storage/Final_data/Collated_training/val ; batch size = 64\n",
      "Source path =  ./notebooks/storage/Final_data/Collated_training/train ; batch size = 64\n",
      "Epoch 1/20\n"
     ]
    },
    {
     "name": "stderr",
     "output_type": "stream",
     "text": [
      "/mnt/disks/user/anaconda3/lib/python3.6/site-packages/ipykernel_launcher.py:7: DeprecationWarning: `imread` is deprecated!\n",
      "`imread` is deprecated in SciPy 1.0.0, and will be removed in 1.2.0.\n",
      "Use ``imageio.imread`` instead.\n",
      "  import sys\n",
      "/mnt/disks/user/anaconda3/lib/python3.6/site-packages/ipykernel_launcher.py:14: DeprecationWarning: `imresize` is deprecated!\n",
      "`imresize` is deprecated in SciPy 1.0.0, and will be removed in 1.2.0.\n",
      "Use ``skimage.transform.resize`` instead.\n",
      "  \n"
     ]
    },
    {
     "name": "stdout",
     "output_type": "stream",
     "text": [
      "11/11 [==============================] - 39s 4s/step - loss: 0.3006 - categorical_accuracy: 0.9929 - val_loss: 1.0772 - val_categorical_accuracy: 0.7200\n",
      "\n",
      "Epoch 00001: saving model to model_2020-11-0909_29_03.691808/model-00001-0.30095-0.99246-1.07719-0.72000.h5\n",
      "Epoch 2/20\n",
      "11/11 [==============================] - 31s 3s/step - loss: 0.2988 - categorical_accuracy: 0.9957 - val_loss: 0.9654 - val_categorical_accuracy: 0.7600\n",
      "\n",
      "Epoch 00002: saving model to model_2020-11-0909_29_03.691808/model-00002-0.29913-0.99548-0.96543-0.76000.h5\n",
      "Epoch 3/20\n",
      "11/11 [==============================] - 31s 3s/step - loss: 0.2957 - categorical_accuracy: 0.9943 - val_loss: 0.9626 - val_categorical_accuracy: 0.7300\n",
      "\n",
      "Epoch 00003: saving model to model_2020-11-0909_29_03.691808/model-00003-0.29653-0.99397-0.96263-0.73000.h5\n",
      "Epoch 4/20\n",
      "11/11 [==============================] - 31s 3s/step - loss: 0.2941 - categorical_accuracy: 0.9943 - val_loss: 0.8918 - val_categorical_accuracy: 0.8200\n",
      "\n",
      "Epoch 00004: saving model to model_2020-11-0909_29_03.691808/model-00004-0.29514-0.99397-0.89185-0.82000.h5\n",
      "Epoch 5/20\n",
      "11/11 [==============================] - 31s 3s/step - loss: 0.2912 - categorical_accuracy: 1.0000 - val_loss: 0.6873 - val_categorical_accuracy: 0.8400\n",
      "\n",
      "Epoch 00005: saving model to model_2020-11-0909_29_03.691808/model-00005-0.29124-1.00000-0.68725-0.84000.h5\n",
      "Epoch 6/20\n",
      "11/11 [==============================] - 31s 3s/step - loss: 0.2930 - categorical_accuracy: 0.9957 - val_loss: 0.8892 - val_categorical_accuracy: 0.8200\n",
      "\n",
      "Epoch 00006: saving model to model_2020-11-0909_29_03.691808/model-00006-0.29294-0.99548-0.88920-0.82000.h5\n",
      "Epoch 7/20\n",
      "11/11 [==============================] - 32s 3s/step - loss: 0.2906 - categorical_accuracy: 0.9971 - val_loss: 0.7178 - val_categorical_accuracy: 0.9000\n",
      "\n",
      "Epoch 00007: saving model to model_2020-11-0909_29_03.691808/model-00007-0.29023-0.99698-0.71783-0.90000.h5\n",
      "Epoch 8/20\n",
      "11/11 [==============================] - 31s 3s/step - loss: 0.2973 - categorical_accuracy: 0.9914 - val_loss: 1.1623 - val_categorical_accuracy: 0.7500\n",
      "\n",
      "Epoch 00008: saving model to model_2020-11-0909_29_03.691808/model-00008-0.29444-0.99095-1.16228-0.75000.h5\n",
      "Epoch 9/20\n",
      "11/11 [==============================] - 32s 3s/step - loss: 0.2891 - categorical_accuracy: 0.9957 - val_loss: 1.0342 - val_categorical_accuracy: 0.7800\n",
      "\n",
      "Epoch 00009: saving model to model_2020-11-0909_29_03.691808/model-00009-0.29033-0.99548-1.03422-0.78000.h5\n",
      "Epoch 10/20\n",
      "11/11 [==============================] - 31s 3s/step - loss: 0.2941 - categorical_accuracy: 0.9920 - val_loss: 1.4914 - val_categorical_accuracy: 0.6500\n",
      "\n",
      "Epoch 00010: saving model to model_2020-11-0909_29_03.691808/model-00010-0.29015-0.99397-1.49141-0.65000.h5\n",
      "Epoch 11/20\n",
      "11/11 [==============================] - 31s 3s/step - loss: 0.2965 - categorical_accuracy: 0.9914 - val_loss: 0.7787 - val_categorical_accuracy: 0.8200\n",
      "\n",
      "Epoch 00011: saving model to model_2020-11-0909_29_03.691808/model-00011-0.29795-0.99095-0.77871-0.82000.h5\n",
      "Epoch 12/20\n",
      "11/11 [==============================] - 31s 3s/step - loss: 0.2848 - categorical_accuracy: 0.9943 - val_loss: 0.9286 - val_categorical_accuracy: 0.8200\n",
      "\n",
      "Epoch 00012: saving model to model_2020-11-0909_29_03.691808/model-00012-0.28480-0.99397-0.92856-0.82000.h5\n",
      "Epoch 13/20\n",
      "11/11 [==============================] - 31s 3s/step - loss: 0.2857 - categorical_accuracy: 0.9963 - val_loss: 1.0592 - val_categorical_accuracy: 0.7500\n",
      "\n",
      "Epoch 00013: saving model to model_2020-11-0909_29_03.691808/model-00013-0.28219-0.99849-1.05915-0.75000.h5\n",
      "Epoch 14/20\n",
      "11/11 [==============================] - 31s 3s/step - loss: 0.2938 - categorical_accuracy: 0.9957 - val_loss: 0.8496 - val_categorical_accuracy: 0.8300\n",
      "\n",
      "Epoch 00014: saving model to model_2020-11-0909_29_03.691808/model-00014-0.29214-0.99548-0.84958-0.83000.h5\n",
      "Epoch 15/20\n",
      "11/11 [==============================] - 31s 3s/step - loss: 0.2805 - categorical_accuracy: 0.9957 - val_loss: 0.8089 - val_categorical_accuracy: 0.8200\n",
      "\n",
      "Epoch 00015: saving model to model_2020-11-0909_29_03.691808/model-00015-0.28159-0.99548-0.80887-0.82000.h5\n",
      "Epoch 16/20\n",
      "11/11 [==============================] - 31s 3s/step - loss: 0.2841 - categorical_accuracy: 0.9943 - val_loss: 0.9237 - val_categorical_accuracy: 0.7700\n",
      "\n",
      "Epoch 00016: saving model to model_2020-11-0909_29_03.691808/model-00016-0.28432-0.99397-0.92366-0.77000.h5\n",
      "Epoch 17/20\n",
      "11/11 [==============================] - 31s 3s/step - loss: 0.2849 - categorical_accuracy: 0.9957 - val_loss: 0.6533 - val_categorical_accuracy: 0.8600\n",
      "\n",
      "Epoch 00017: saving model to model_2020-11-0909_29_03.691808/model-00017-0.28526-0.99548-0.65328-0.86000.h5\n",
      "Epoch 18/20\n",
      "11/11 [==============================] - 30s 3s/step - loss: 0.2841 - categorical_accuracy: 0.9905 - val_loss: 0.7339 - val_categorical_accuracy: 0.8400\n",
      "\n",
      "Epoch 00018: saving model to model_2020-11-0909_29_03.691808/model-00018-0.28148-0.99246-0.73388-0.84000.h5\n",
      "Epoch 19/20\n",
      "11/11 [==============================] - 31s 3s/step - loss: 0.2780 - categorical_accuracy: 0.9986 - val_loss: 0.7867 - val_categorical_accuracy: 0.8200\n",
      "\n",
      "Epoch 00019: saving model to model_2020-11-0909_29_03.691808/model-00019-0.27819-0.99849-0.78671-0.82000.h5\n",
      "Epoch 20/20\n",
      "11/11 [==============================] - 31s 3s/step - loss: 0.2818 - categorical_accuracy: 0.9963 - val_loss: 0.7893 - val_categorical_accuracy: 0.8400\n",
      "\n",
      "Epoch 00020: saving model to model_2020-11-0909_29_03.691808/model-00020-0.27722-0.99849-0.78927-0.84000.h5\n"
     ]
    },
    {
     "data": {
      "text/plain": [
       "<keras.callbacks.History at 0x7f3326007748>"
      ]
     },
     "execution_count": 41,
     "metadata": {},
     "output_type": "execute_result"
    }
   ],
   "source": [
    "model.fit_generator(train_generator, steps_per_epoch=steps_per_epoch, epochs=num_epochs, verbose=1, \n",
    "                    callbacks=callbacks_list, validation_data=val_generator, \n",
    "                    validation_steps=validation_steps, class_weight=None, workers=1, initial_epoch=0)"
   ]
  },
  {
   "cell_type": "code",
   "execution_count": null,
   "metadata": {},
   "outputs": [],
   "source": []
  },
  {
   "cell_type": "code",
   "execution_count": null,
   "metadata": {},
   "outputs": [],
   "source": []
  },
  {
   "cell_type": "code",
   "execution_count": null,
   "metadata": {},
   "outputs": [],
   "source": []
  },
  {
   "cell_type": "code",
   "execution_count": null,
   "metadata": {},
   "outputs": [],
   "source": []
  }
 ],
 "metadata": {
  "kernelspec": {
   "display_name": "Python 3",
   "language": "python",
   "name": "python3"
  },
  "language_info": {
   "codemirror_mode": {
    "name": "ipython",
    "version": 3
   },
   "file_extension": ".py",
   "mimetype": "text/x-python",
   "name": "python",
   "nbconvert_exporter": "python",
   "pygments_lexer": "ipython3",
   "version": "3.7.4"
  }
 },
 "nbformat": 4,
 "nbformat_minor": 2
}
